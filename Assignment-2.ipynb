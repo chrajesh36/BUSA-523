{
 "cells": [
  {
   "cell_type": "markdown",
   "id": "d10d019a",
   "metadata": {},
   "source": [
    "# Assignment 2\n",
    "## Question No-1\n",
    "### Write a program for flipping a coin 10,000 times and store the results in a list. After which, identify the number of streaks. (streak - a series of 5 or more heads or tails).\n"
   ]
  },
  {
   "cell_type": "code",
   "execution_count": 88,
   "id": "1184872c",
   "metadata": {
    "scrolled": true
   },
   "outputs": [
    {
     "name": "stdout",
     "output_type": "stream",
     "text": [
      "Welcome, this program checks number streaks - 5 or more head or tails in 10000 flips of coin\n",
      "\n",
      "Total number of streaks are : 305\n"
     ]
    }
   ],
   "source": [
    "import random\n",
    "\n",
    "print(\"Welcome, this program checks number of streaks - 5 or more head or tails in 10000 flips of coin\\n\")\n",
    "flips=10000 #int(input(\"Enter number of times you want to flip a coin:\"))\n",
    "\n",
    "result=[]\n",
    "for i in range(0,flips):\n",
    "    flip_coin=random.randint(1,2)\n",
    "    if flip_coin==1:\n",
    "        toss='head'\n",
    "    else:\n",
    "        toss='tail'\n",
    "    result.append(toss)\n",
    "    \n",
    "streak=1\n",
    "streak_count=0\n",
    "for x in range(0,(flips-1)):\n",
    "    if result[x]==result[x+1]:\n",
    "        streak+=1\n",
    "        if streak==5:\n",
    "            streak_count+=1\n",
    "    else:\n",
    "        streak=1\n",
    "            \n",
    "print(f\"Total number of streaks are : {streak_count}\")\n",
    "\n",
    "#print(result)       \n",
    "\n"
   ]
  },
  {
   "cell_type": "markdown",
   "id": "1ab93ef8",
   "metadata": {},
   "source": []
  },
  {
   "cell_type": "markdown",
   "id": "d64dfc9e",
   "metadata": {},
   "source": [
    "## Question No-2\n",
    "### Write a program to take user inputs (number of swords, diamonds, gold coins, ropes and potions) for a video game and store them in a dictionary. After which print the following output.\n",
    "###  "
   ]
  },
  {
   "cell_type": "code",
   "execution_count": 1,
   "id": "b72ec58e",
   "metadata": {},
   "outputs": [
    {
     "name": "stdout",
     "output_type": "stream",
     "text": [
      "Enter the number of swords :10\n",
      "Enter the number of diamonds :5\n",
      "Enter the number of gold coins :6\n",
      "Enter the number of ropes :4\n",
      "Enter the number of potions :3\n",
      "\n",
      "Inventory:\n",
      "10 swords\n",
      "5 diamonds\n",
      "6 gold coins\n",
      "4 ropes\n",
      "3 potions\n"
     ]
    }
   ],
   "source": [
    "inventory={'swords':0,'diamonds':0,'gold coins':0,'ropes':0,'potions':0}\n",
    "\n",
    "for key,value in inventory.items():\n",
    "    inventory[key]=input(\"Enter the number of \" + key + \" :\")\n",
    "    \n",
    "print(\"\\nInventory:\")\n",
    "for key,value in inventory.items():\n",
    "    print(value + \" \" +key)"
   ]
  },
  {
   "cell_type": "code",
   "execution_count": null,
   "id": "40539333",
   "metadata": {},
   "outputs": [],
   "source": [
    "\n"
   ]
  },
  {
   "cell_type": "markdown",
   "id": "3e537f6c",
   "metadata": {},
   "source": [
    "## Question No-3\n",
    "### Repeat question 1 using arrays. \n",
    "##### Question-1 (Write a program for flipping a coin 10,000 times and store the results in a list. After which, identify the number of streaks. (streak - a series of 5 or more heads or tails))."
   ]
  },
  {
   "cell_type": "code",
   "execution_count": 2,
   "id": "0e0dc40f",
   "metadata": {},
   "outputs": [
    {
     "name": "stdout",
     "output_type": "stream",
     "text": [
      "Welcome, this program checks number of streaks - 5 or more head or tails in given number of flips of coin\n",
      "\n",
      "Enter number of times you want to flip a coin:10000\n",
      "\n",
      "\n",
      "Total number of streaks are : 289 \n",
      "\n",
      "<class 'numpy.ndarray'>\n",
      "['tail' 'head' 'head' ... 'tail' 'tail' 'head']\n"
     ]
    }
   ],
   "source": [
    "import random\n",
    "import numpy as np\n",
    "\n",
    "print(\"Welcome, this program checks number of streaks - 5 or more head or tails in given number of flips of coin\\n\")\n",
    "flips=int(input(\"Enter number of times you want to flip a coin:\"))\n",
    "print('\\n')\n",
    "\n",
    "result = np.array([None]*flips)\n",
    "\n",
    "for index in enumerate(result):\n",
    "    flip_coin=random.randint(1,2)\n",
    "    if flip_coin==1:\n",
    "        result[index]=\"head\"\n",
    "    else:\n",
    "        result[index]=\"tail\"\n",
    "    \n",
    "streak=1\n",
    "streak_count=0\n",
    "for x in range(0,(flips-1)):\n",
    "    if result[x]==result[x+1]:\n",
    "        streak+=1\n",
    "        if streak==5:\n",
    "            streak_count+=1\n",
    "    else:\n",
    "        streak=1\n",
    "            \n",
    "print(f\"Total number of streaks are : {streak_count} \\n\")\n",
    "print(type(result))\n",
    "print(result)\n"
   ]
  },
  {
   "cell_type": "code",
   "execution_count": null,
   "id": "e85589e4",
   "metadata": {},
   "outputs": [],
   "source": []
  },
  {
   "cell_type": "markdown",
   "id": "ebb2a037",
   "metadata": {},
   "source": [
    "## Question No-4\n",
    "\n",
    "#### Create a game with the following instructions:\n",
    "##### a. There are 3 players and 10 iterations.\n",
    "##### b. In each iteration, every player rolls a die.\n",
    "##### c. The winner of the game is the one who has the highest score when rolls from all the iterations are added.\n"
   ]
  },
  {
   "cell_type": "code",
   "execution_count": 7,
   "id": "d434e02a",
   "metadata": {},
   "outputs": [
    {
     "name": "stdout",
     "output_type": "stream",
     "text": [
      "Welcome to 3 player die game\n",
      "\n",
      "Scores of Players 1, 2 and 3 respectively for iteration 1 are : 3, 2 and 3\n",
      "Scores of Players 1, 2 and 3 respectively for iteration 2 are : 5, 6 and 5\n",
      "Scores of Players 1, 2 and 3 respectively for iteration 3 are : 6, 3 and 4\n",
      "Scores of Players 1, 2 and 3 respectively for iteration 4 are : 4, 3 and 5\n",
      "Scores of Players 1, 2 and 3 respectively for iteration 5 are : 6, 2 and 2\n",
      "Scores of Players 1, 2 and 3 respectively for iteration 6 are : 5, 5 and 2\n",
      "Scores of Players 1, 2 and 3 respectively for iteration 7 are : 4, 6 and 2\n",
      "Scores of Players 1, 2 and 3 respectively for iteration 8 are : 1, 3 and 2\n",
      "Scores of Players 1, 2 and 3 respectively for iteration 9 are : 6, 6 and 6\n",
      "Scores of Players 1, 2 and 3 respectively for iteration 10 are : 2, 1 and 4\n",
      "\n",
      "Payer 1 total score at the end of the game is : 42\n",
      "Payer 2 total score at the end of the game is : 37\n",
      "Payer 3 total score at the end of the game is : 35\n",
      "\n",
      "Player 1 win the game with highest score.\n"
     ]
    }
   ],
   "source": [
    "import random\n",
    "import numpy as np\n",
    "\n",
    "scores=np.zeros((10,3),dtype=int)\n",
    "#print(scores)\n",
    "print(\"Welcome to 3 player die game\\n\")\n",
    "for x in range(len(scores)):\n",
    "    for y in range(len(scores[x])):\n",
    "        scores[x][y]=random.choice([1,2,3,4,5,6])\n",
    "    print(f\"Scores of Players 1, 2 and 3 respectively for iteration {x+1} are : {scores[x][0]}, {scores[x][1]} and {scores[x][2]}\")\n",
    "   # print(scores[x])\n",
    "    \n",
    "#print(scores)\n",
    "sum_set=[sum(scores[:,0]),sum(scores[:,1]),sum(scores[:,2])]\n",
    "\n",
    "print(f\"\\nPayer 1 total score at the end of the game is : {sum_set[0]}\")\n",
    "print(f\"Payer 2 total score at the end of the game is : {sum_set[1]}\")\n",
    "print(f\"Payer 3 total score at the end of the game is : {sum_set[2]}\\n\")\n",
    "\n",
    "if sum_set[0]==max(sum_set):\n",
    "    if sum_set[0]==sum_set[1] and sum_set[0]==sum_set[2]:\n",
    "        print(\"Its a tie all 3 players got same score\")\n",
    "    elif sum_set[0]==sum_set[1]:\n",
    "        print(\"Its a tie between palyer 1 and payer 2. They both got same score.\")\n",
    "    elif sum_set[0]==sum_set[2]:\n",
    "        print(\"Its a tie between palyer 1 and payer 3. They both got same score.\")\n",
    "    else:        \n",
    "        print(\"Player 1 win the game with highest score.\")\n",
    "elif sum_set[1]==max(sum_set):\n",
    "    if sum_set[1]==sum_set[2]:\n",
    "        print(\"Its a tie between palyer 2 and payer 3. They both got same score.\")\n",
    "    else:\n",
    "        print(\"Player 2 win the game with highest score.\")\n",
    "else:\n",
    "    print(\"Player 3 win the game with highest score.\")\n"
   ]
  },
  {
   "cell_type": "code",
   "execution_count": null,
   "id": "b899dc0d",
   "metadata": {},
   "outputs": [],
   "source": []
  }
 ],
 "metadata": {
  "kernelspec": {
   "display_name": "Python 3 (ipykernel)",
   "language": "python",
   "name": "python3"
  },
  "language_info": {
   "codemirror_mode": {
    "name": "ipython",
    "version": 3
   },
   "file_extension": ".py",
   "mimetype": "text/x-python",
   "name": "python",
   "nbconvert_exporter": "python",
   "pygments_lexer": "ipython3",
   "version": "3.9.7"
  }
 },
 "nbformat": 4,
 "nbformat_minor": 5
}
