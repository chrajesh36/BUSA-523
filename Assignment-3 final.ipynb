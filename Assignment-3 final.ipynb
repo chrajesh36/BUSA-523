{
 "cells": [
  {
   "cell_type": "markdown",
   "id": "c4c48fa5",
   "metadata": {},
   "source": [
    "# ASSIGNMENT-3\n",
    "#### Student Name: Rajesh Cheepurupalli\n",
    "##### Question-1:\n",
    "##### Create a class to store student records. Each student has a first name, last name, country, overall grade (0 - 4.0 scale), credits completed (total 30) and major. Create a method within this class to evaluate student progress. Progress is evaluated as follows:\n",
    "##### ○ “Good”: if grades are above 3.0 and credits completed is greater than 20\n",
    "##### ○ “Average”: if grades are above 2.5 or credits completed is between 10 and 20\n",
    "##### ○ “Bad”: if grades are below 2.5"
   ]
  },
  {
   "cell_type": "code",
   "execution_count": 7,
   "id": "764630db",
   "metadata": {},
   "outputs": [
    {
     "name": "stdout",
     "output_type": "stream",
     "text": [
      "Enter student detalis with space between each input: First name, Last name, Country, Overall grade, Credits completed and Major : a b c 3.0 5 asdf\n",
      "\n",
      "\n",
      "Student Progress is average\n"
     ]
    }
   ],
   "source": [
    "class student:    \n",
    "    def __init__(stud,firstname,lastname,country,overgrade,creditscomp,major):\n",
    "        stud.firstname = firstname\n",
    "        stud.lastname = lastname\n",
    "        stud.country = country\n",
    "        stud.overgrade = overgrade\n",
    "        stud.creditscomp = creditscomp\n",
    "        stud.major = major\n",
    "    \n",
    "    def progress(stud):            \n",
    "        if isinstance(stud.overgrade, float)==False or stud.overgrade<0.0 or stud.overgrade>4.0:\n",
    "            print(\"Invalid input for Overall Grade. Please enter only float value between 0.0 to 4.0\")\n",
    "        if isinstance(stud.creditscomp, int)==False or stud.creditscomp<0 or stud.creditscomp>30:\n",
    "            print(\"Invalid input for credits completed. Please enter integer value between 0 to 30\")\n",
    "        else:\n",
    "            if stud.overgrade>=3.0 and stud.creditscomp>=20:\n",
    "                print(\"Student Progress is good\")\n",
    "            elif stud.overgrade<2.5:\n",
    "                print(\"Student Progress is bad\")\n",
    "            elif stud.overgrade>=2.5 or (stud.creditscomp>=10 and stud.creditscomp<20):\n",
    "                print(\"Student Progress is average\")\n",
    "            else:\n",
    "                print(\"Please check inputs\")        \n",
    "  \n",
    "student_input= [item for item in input(\"Enter student detalis with space between each input: First name, Last name, Country, Overall grade, Credits completed and Major : \").split()]\n",
    "\n",
    "student_1=student(student_input[0],student_input[1],student_input[2],float(student_input[3]),int(student_input[4]),student_input[5])\n",
    "print(\"\\n\")\n",
    "student_1.progress()\n",
    "\n",
    "\n"
   ]
  },
  {
   "cell_type": "code",
   "execution_count": null,
   "id": "4cc92623",
   "metadata": {},
   "outputs": [],
   "source": []
  },
  {
   "cell_type": "markdown",
   "id": "137d763a",
   "metadata": {},
   "source": [
    "### Question-2\n",
    "#### Write a function which separates the positive and negative numbers from a list of numbers. (20)\n",
    "##### Input: [-6, 5, -3, -2, 1, 0, -8, 9, 3]\n",
    "##### Output: [-6, -3, -2, -8], [5, 1, 9, 3]"
   ]
  },
  {
   "cell_type": "code",
   "execution_count": 33,
   "id": "5f468748",
   "metadata": {},
   "outputs": [
    {
     "name": "stdout",
     "output_type": "stream",
     "text": [
      "[-6, -3, -2, -8],[5, 1, 9, 3]\n"
     ]
    }
   ],
   "source": [
    "inputt=[-6,5,-3,-2,1,0,-8,9,3]\n",
    " \n",
    "def sorting(Inputt):\n",
    "    negative_set=[]\n",
    "    positive_set=[]\n",
    "    length=len(Inputt)\n",
    "    for i in range(length):\n",
    "        if Inputt[i]<0:\n",
    "            negative_set.append(Inputt[i])\n",
    "        if Inputt[i]>0:\n",
    "            positive_set.append(Inputt[i])\n",
    "    print(f\"{negative_set},{positive_set}\")\n",
    "\n",
    "sorting(input)"
   ]
  },
  {
   "cell_type": "code",
   "execution_count": null,
   "id": "dcd753e1",
   "metadata": {},
   "outputs": [],
   "source": []
  },
  {
   "cell_type": "markdown",
   "id": "833d18e4",
   "metadata": {},
   "source": [
    "### Question-3\n",
    "\n",
    "#### Write a function which outputs all winning possibilities for a given player’s score. Assume the score is always between 15 and 21. Further, the dealer is dealt only 2 cards.\n"
   ]
  },
  {
   "cell_type": "code",
   "execution_count": 24,
   "id": "4fe92614",
   "metadata": {},
   "outputs": [
    {
     "name": "stdout",
     "output_type": "stream",
     "text": [
      "Enter the dealer score between 15 and 21: 15\n",
      "All winning possibilities are : [[5, 11], [6, 10], [6, 11], [7, 9], [7, 10], [7, 11], [8, 9], [8, 10], [8, 11], [9, 10], [9, 11], [10, 11]]\n"
     ]
    }
   ],
   "source": [
    "\n",
    "while True:\n",
    "    score=input(\"Enter the dealer score between 15 and 21: \")\n",
    "    if int(score)>=15 and int(score)<=21:\n",
    "        break\n",
    "    else:\n",
    "        score=input(\"Wrong input please try again\")        \n",
    "\n",
    "def winposs(Score):\n",
    "    from itertools import combinations\n",
    "    comb=combinations([5,6,7,8,9,10,11],2)\n",
    "    possib=[]\n",
    "    for i in list(comb):        \n",
    "        a=i[0]\n",
    "        b=i[1]\n",
    "        add=[a,b]\n",
    "        if a+b > Score:\n",
    "            possib.append(add)\n",
    "    print(f\"All winning possibilities are : {possib}\")\n",
    "\n",
    "winposs(int(score))\n"
   ]
  },
  {
   "cell_type": "code",
   "execution_count": null,
   "id": "3a268018",
   "metadata": {},
   "outputs": [],
   "source": []
  },
  {
   "cell_type": "markdown",
   "id": "e865076f",
   "metadata": {},
   "source": [
    "### Question-4\n",
    "#### Calculate the number of steps & Big O order for the programs in question 2 and 3."
   ]
  },
  {
   "cell_type": "markdown",
   "id": "436673ca",
   "metadata": {},
   "source": [
    "## Number of steps and Big O order for Program 2:\n",
    "\n",
    "#### input = 1\n",
    "\n",
    "#### single steps not in loop = 4\n",
    "\n",
    "#### single steps in for loop * number of iterations = 4*9 = 36\n",
    "\n",
    "#### Hence total steps are = 41\n",
    "\n",
    "#### Since only one for loop is used the Big O order for this program is O(n) \"Linear\". \n",
    "\n",
    "\n",
    "\n",
    "## Number of steps and Big O order for Program 3:\n",
    "\n",
    "#### input = 1\n",
    "\n",
    "#### single steps not in loop = 6\n",
    "\n",
    "#### single steps in for loop * number of iterations = 5*21= 105\n",
    "\n",
    "#### Hence total steps are = 112\n",
    "\n",
    "#### Since one for loop is used the Big O order for this program is O(n) \"Linear\". \n",
    "\n"
   ]
  },
  {
   "cell_type": "code",
   "execution_count": null,
   "id": "778751f6",
   "metadata": {},
   "outputs": [],
   "source": []
  }
 ],
 "metadata": {
  "kernelspec": {
   "display_name": "Python 3 (ipykernel)",
   "language": "python",
   "name": "python3"
  },
  "language_info": {
   "codemirror_mode": {
    "name": "ipython",
    "version": 3
   },
   "file_extension": ".py",
   "mimetype": "text/x-python",
   "name": "python",
   "nbconvert_exporter": "python",
   "pygments_lexer": "ipython3",
   "version": "3.9.7"
  }
 },
 "nbformat": 4,
 "nbformat_minor": 5
}
