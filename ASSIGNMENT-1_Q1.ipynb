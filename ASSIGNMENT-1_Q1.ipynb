{
 "cells": [
  {
   "cell_type": "markdown",
   "id": "42f1f82d",
   "metadata": {},
   "source": [
    "# Assignment-1, BUSA-523\n",
    "\n",
    "### Student Name: Rajesh Cheepurupalli, \n",
    "### CWID: 50307441\n",
    "\n",
    "### Question No-1\n",
    "##### Write a program which randomly selects a number between 1 and 20. The user is then given 5 chances to guess the number correctly to win."
   ]
  },
  {
   "cell_type": "code",
   "execution_count": null,
   "id": "33230600",
   "metadata": {},
   "outputs": [
    {
     "name": "stdout",
     "output_type": "stream",
     "text": [
      "Select the number between 1 to 20, you have total 5 chances to guess correctly and win the game.\n",
      "\n",
      "\n",
      "Enter your guess number 1 :fhjkfhg\n",
      "Wrong input, Please enter only number between 1 to 20 without space:15\n",
      "Your guess '15' is wrong, Try again!\n",
      "\n",
      "\n",
      "Enter your guess number 2 :01\n",
      "Your guess '1' is wrong, Try again!\n",
      "\n",
      "\n",
      "Enter your guess number 3 :08\n",
      "Your guess '8' is wrong, Try again!\n",
      "\n",
      "\n",
      "Enter your guess number 4 :09\n",
      "Your guess '9' is wrong, Try again!\n",
      "\n"
     ]
    }
   ],
   "source": [
    "import random\n",
    "randomValue=random.randint(1,20)\n",
    "print(\"Select the number between 1 to 20, you have total 5 chances to guess correctly and win the game.\\n\")\n",
    "chance=1\n",
    "while chance<6:\n",
    "    if chance!=1:\n",
    "        print(f\"Your guess '{user}' is wrong, Try again!\\n\") \n",
    "    user=input(f\"\\nEnter your guess number {chance} :\")\n",
    "    \n",
    "    isNumeric=user.isnumeric()\n",
    "    if(isNumeric == True):\n",
    "        user=int(user) \n",
    "    while isNumeric == False or user>20 or user<0:            \n",
    "        user=input(f\"Wrong input, Please enter only number between 1 to 20 without space:\")\n",
    "        isNumeric = user.isnumeric()\n",
    "        if(isNumeric == True):\n",
    "            user=int(user) \n",
    "  \n",
    "    if user == randomValue:\n",
    "        print(f\"Congratulations you won the game. You took total {chance} chances to guess the number correctly.\")\n",
    "        print(f\"The Right Answer is : {randomValue}.\")\n",
    "        break\n",
    "    chance+=1\n",
    "    \n",
    "if user!=randomValue:\n",
    "    print(\"Sorry you lost the game, Better lock next time.\")\n",
    "    print(f\"The Right Answer is : {randomValue}.\")\n",
    "\n",
    "    "
   ]
  },
  {
   "cell_type": "code",
   "execution_count": null,
   "id": "5f3b56e6",
   "metadata": {},
   "outputs": [],
   "source": []
  }
 ],
 "metadata": {
  "kernelspec": {
   "display_name": "Python 3 (ipykernel)",
   "language": "python",
   "name": "python3"
  },
  "language_info": {
   "codemirror_mode": {
    "name": "ipython",
    "version": 3
   },
   "file_extension": ".py",
   "mimetype": "text/x-python",
   "name": "python",
   "nbconvert_exporter": "python",
   "pygments_lexer": "ipython3",
   "version": "3.9.7"
  }
 },
 "nbformat": 4,
 "nbformat_minor": 5
}
