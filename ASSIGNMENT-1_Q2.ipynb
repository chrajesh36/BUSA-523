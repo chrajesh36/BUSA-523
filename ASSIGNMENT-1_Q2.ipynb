{
 "cells": [
  {
   "cell_type": "markdown",
   "id": "cc12e1ce",
   "metadata": {},
   "source": [
    "# Assignment-1, BUSA-523\n",
    "\n",
    "### Student Name: Rajesh Cheepurupalli, \n",
    "### CWID: 50307441\n",
    "\n",
    "### Question No-2\n",
    "##### Make the following changes to the above program (Question-1) After each guess, print if the next guess should be lower or higher. For example, if the computer selection is 10 and the user input is 6, print guess a higher value."
   ]
  },
  {
   "cell_type": "code",
   "execution_count": 4,
   "id": "7369ca01",
   "metadata": {},
   "outputs": [
    {
     "name": "stdout",
     "output_type": "stream",
     "text": [
      "Select the number between 1 to 20, you have total 5 chances to guess correctly and win the game. After each wrong guess you will get a hint to achieve right answer. Follow carefully and win the game.\n",
      "\n",
      "\n",
      "Enter your guess number 1 :18\n",
      "Your guess is wrong, Try again!\n",
      "Hint: Guess a lesser number than previous guess '18'\n",
      "\n",
      "Enter your guess number 2 :12\n",
      "Your guess is wrong, Try again!\n",
      "Hint: Guess a higher number than previous guess '12'\n",
      "\n",
      "Enter your guess number 3 :15\n",
      "Your guess is wrong, Try again!\n",
      "Hint: Guess a lesser number than previous guess '15'\n",
      "\n",
      "Enter your guess number 4 :14\n",
      "Your guess is wrong, Try again!\n",
      "Hint: Guess a lesser number than previous guess '14'\n",
      "\n",
      "Enter your guess number 5 :13\n",
      "Congratulations you won the game. You took total 5 chances to guess the number correctly.\n",
      "The Right Answer is : 13.\n"
     ]
    }
   ],
   "source": [
    "import random\n",
    "randomValue=random.randint(1,20)\n",
    "print(\"Select the number between 1 to 20, you have total 5 chances to guess correctly and win the game. After each wrong guess you will get a hint to achieve right answer. Follow carefully and win the game.\\n\")\n",
    "chance=1\n",
    "while chance<6:\n",
    "    if chance!=1:\n",
    "        if user>randomValue:\n",
    "            print(f\"Your guess is wrong, Try again!\\nHint: Guess a lesser number than previous guess '{user}'\") \n",
    "        if user<randomValue:\n",
    "            print(f\"Your guess is wrong, Try again!\\nHint: Guess a higher number than previous guess '{user}'\") \n",
    "    user=input(f\"\\nEnter your guess number {chance} :\")\n",
    "    \n",
    "    isNumeric=user.isnumeric()\n",
    "    if(isNumeric == True):\n",
    "        user=int(user) \n",
    "    while isNumeric == False or user>20 or user<0:            \n",
    "        user=input(f\"Wrong input, Please enter only number between 1 to 20 without space:\")\n",
    "        isNumeric = user.isnumeric()\n",
    "        if(isNumeric == True):\n",
    "            user=int(user) \n",
    "  \n",
    "    if user == randomValue:\n",
    "        print(f\"Congratulations you won the game. You took total {chance} chances to guess the number correctly.\")\n",
    "        print(f\"The Right Answer is : {randomValue}.\")\n",
    "        break\n",
    "    chance+=1\n",
    "if user!=randomValue:\n",
    "    print(\"Sorry you lost the game, Better lock next time.\")\n",
    "    print(f\"The Right Answer is : {randomValue}.\")\n",
    "    "
   ]
  },
  {
   "cell_type": "code",
   "execution_count": null,
   "id": "ea049b40",
   "metadata": {},
   "outputs": [],
   "source": []
  },
  {
   "cell_type": "code",
   "execution_count": null,
   "id": "08071176",
   "metadata": {},
   "outputs": [],
   "source": []
  }
 ],
 "metadata": {
  "kernelspec": {
   "display_name": "Python 3 (ipykernel)",
   "language": "python",
   "name": "python3"
  },
  "language_info": {
   "codemirror_mode": {
    "name": "ipython",
    "version": 3
   },
   "file_extension": ".py",
   "mimetype": "text/x-python",
   "name": "python",
   "nbconvert_exporter": "python",
   "pygments_lexer": "ipython3",
   "version": "3.9.7"
  }
 },
 "nbformat": 4,
 "nbformat_minor": 5
}
